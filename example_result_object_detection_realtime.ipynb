{
  "nbformat": 4,
  "nbformat_minor": 0,
  "metadata": {
    "colab": {
      "provenance": [],
      "authorship_tag": "ABX9TyMfHa11yyFZ07Ck9bxMKHtH",
      "include_colab_link": true
    },
    "kernelspec": {
      "name": "python3",
      "display_name": "Python 3"
    },
    "language_info": {
      "name": "python"
    }
  },
  "cells": [
    {
      "cell_type": "markdown",
      "metadata": {
        "id": "view-in-github",
        "colab_type": "text"
      },
      "source": [
        "<a href=\"https://colab.research.google.com/github/JPP-J/object_dectection_realtime_project/blob/main/example_result_object_detection_realtime.ipynb\" target=\"_parent\"><img src=\"https://colab.research.google.com/assets/colab-badge.svg\" alt=\"Open In Colab\"/></a>"
      ]
    },
    {
      "cell_type": "markdown",
      "source": [
        "## Example result from hand on demo code\n",
        "\n",
        "Description: screen recording video from personal CCTV through application and integrate with yolov8n to do object detection in realtime\n",
        "\n",
        "| main.py\n",
        "\n",
        "    > realtime_vdo(monitor_number=2, model_name=\"yolov8n.pt\").get_object_detection()    # detect object from screenshot ver. 1\n"
      ],
      "metadata": {
        "id": "bzcI_ZnuXdD-"
      }
    },
    {
      "cell_type": "code",
      "execution_count": 9,
      "metadata": {
        "colab": {
          "base_uri": "https://localhost:8080/",
          "height": 501
        },
        "id": "H6M6ouV8ELa7",
        "outputId": "ff6bc96e-2b95-43c4-bd1f-157363c557df"
      },
      "outputs": [
        {
          "output_type": "execute_result",
          "data": {
            "text/plain": [
              "<IPython.lib.display.IFrame at 0x7d8f04ee6e10>"
            ],
            "text/html": [
              "\n",
              "        <iframe\n",
              "            width=\"640\"\n",
              "            height=\"480\"\n",
              "            src=\"https://drive.google.com/file/d/1unFScKpaFGszicRZX8QKoDSZvKGct_dj/preview\"\n",
              "            frameborder=\"0\"\n",
              "            allowfullscreen\n",
              "            \n",
              "        ></iframe>\n",
              "        "
            ]
          },
          "metadata": {},
          "execution_count": 9
        }
      ],
      "source": [
        "from IPython.display import IFrame\n",
        "\n",
        "# Link to the video with Google Drive's preview\n",
        "video_url = \"https://drive.google.com/file/d/1unFScKpaFGszicRZX8QKoDSZvKGct_dj/preview\"\n",
        "\n",
        "# Embed the video using iframe\n",
        "IFrame(video_url, width=640, height=480)\n"
      ]
    }
  ]
}